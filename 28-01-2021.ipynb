{
 "cells": [
  {
   "cell_type": "markdown",
   "id": "absent-double",
   "metadata": {},
   "source": [
    "## strings continous\n",
    "### data structures in python\n",
    ".list\n",
    ".tuple\n",
    ".dict"
   ]
  },
  {
   "cell_type": "code",
   "execution_count": 10,
   "id": "together-prince",
   "metadata": {
    "scrolled": true
   },
   "outputs": [
    {
     "name": "stdout",
     "output_type": "stream",
     "text": [
      "Python programming\n"
     ]
    }
   ],
   "source": [
    "g='Python programming'\n",
    "print(g)"
   ]
  },
  {
   "cell_type": "code",
   "execution_count": 12,
   "id": "thorough-circumstances",
   "metadata": {},
   "outputs": [
    {
     "data": {
      "text/plain": [
       "'my name is:gandhi prakash '"
      ]
     },
     "execution_count": 12,
     "metadata": {},
     "output_type": "execute_result"
    }
   ],
   "source": [
    "a='my name is:{} '\n",
    "name='gandhi prakash'\n",
    "a.format(name)"
   ]
  },
  {
   "cell_type": "code",
   "execution_count": 24,
   "id": "passing-quarterly",
   "metadata": {},
   "outputs": [
    {
     "data": {
      "text/plain": [
       "'my name is:gandhi prakash,email id is:bellamgandhiprakash@gmail.com, roll number:20'"
      ]
     },
     "execution_count": 24,
     "metadata": {},
     "output_type": "execute_result"
    }
   ],
   "source": [
    "a= \"my name is:{},email id is:{}, roll number:{}\"\n",
    "name=\"gandhi prakash\"\n",
    "mail=\"bellamgandhiprakash@gmail.com\"\n",
    "roll =20\n",
    "a.format(name,mail,roll)"
   ]
  },
  {
   "cell_type": "code",
   "execution_count": 20,
   "id": "individual-original",
   "metadata": {},
   "outputs": [
    {
     "data": {
      "text/plain": [
       "44"
      ]
     },
     "execution_count": 20,
     "metadata": {},
     "output_type": "execute_result"
    }
   ],
   "source": [
    "len(a)"
   ]
  },
  {
   "cell_type": "code",
   "execution_count": 25,
   "id": "stock-housing",
   "metadata": {},
   "outputs": [
    {
     "data": {
      "text/plain": [
       "45"
      ]
     },
     "execution_count": 25,
     "metadata": {},
     "output_type": "execute_result"
    }
   ],
   "source": [
    "a.count('')"
   ]
  },
  {
   "cell_type": "code",
   "execution_count": 27,
   "id": "atmospheric-jimmy",
   "metadata": {},
   "outputs": [
    {
     "data": {
      "text/plain": [
       "False"
      ]
     },
     "execution_count": 27,
     "metadata": {},
     "output_type": "execute_result"
    }
   ],
   "source": [
    "g.isalpha()"
   ]
  },
  {
   "cell_type": "code",
   "execution_count": 28,
   "id": "reliable-branch",
   "metadata": {},
   "outputs": [
    {
     "data": {
      "text/plain": [
       "False"
      ]
     },
     "execution_count": 28,
     "metadata": {},
     "output_type": "execute_result"
    }
   ],
   "source": [
    "a=\"ece202\"\n",
    "a.isalpha()"
   ]
  },
  {
   "cell_type": "code",
   "execution_count": 32,
   "id": "emerging-storm",
   "metadata": {},
   "outputs": [
    {
     "data": {
      "text/plain": [
       "True"
      ]
     },
     "execution_count": 32,
     "metadata": {},
     "output_type": "execute_result"
    }
   ],
   "source": [
    "g1=\"020120\"\n",
    "g1.isdigit()"
   ]
  },
  {
   "cell_type": "code",
   "execution_count": 34,
   "id": "essential-conflict",
   "metadata": {},
   "outputs": [
    {
     "data": {
      "text/plain": [
       "2"
      ]
     },
     "execution_count": 34,
     "metadata": {},
     "output_type": "execute_result"
    }
   ],
   "source": [
    "name.find('n')"
   ]
  },
  {
   "cell_type": "code",
   "execution_count": 35,
   "id": "according-watson",
   "metadata": {},
   "outputs": [
    {
     "data": {
      "text/plain": [
       "'gandhi prakash'"
      ]
     },
     "execution_count": 35,
     "metadata": {},
     "output_type": "execute_result"
    }
   ],
   "source": [
    "name"
   ]
  },
  {
   "cell_type": "code",
   "execution_count": 36,
   "id": "obvious-alaska",
   "metadata": {},
   "outputs": [
    {
     "data": {
      "text/plain": [
       "7"
      ]
     },
     "execution_count": 36,
     "metadata": {},
     "output_type": "execute_result"
    }
   ],
   "source": [
    "name.find('pr')"
   ]
  },
  {
   "cell_type": "code",
   "execution_count": 37,
   "id": "collected-thickness",
   "metadata": {},
   "outputs": [
    {
     "data": {
      "text/plain": [
       "'gandhi prakash'"
      ]
     },
     "execution_count": 37,
     "metadata": {},
     "output_type": "execute_result"
    }
   ],
   "source": [
    "#replace\n",
    "name"
   ]
  },
  {
   "cell_type": "code",
   "execution_count": 38,
   "id": "outer-ozone",
   "metadata": {},
   "outputs": [
    {
     "data": {
      "text/plain": [
       "'vijay'"
      ]
     },
     "execution_count": 38,
     "metadata": {},
     "output_type": "execute_result"
    }
   ],
   "source": [
    "name.replace('gandhi prakash','vijay')"
   ]
  },
  {
   "cell_type": "code",
   "execution_count": 39,
   "id": "short-cable",
   "metadata": {},
   "outputs": [
    {
     "data": {
      "text/plain": [
       "'gandhi prakash'"
      ]
     },
     "execution_count": 39,
     "metadata": {},
     "output_type": "execute_result"
    }
   ],
   "source": [
    "name"
   ]
  },
  {
   "cell_type": "markdown",
   "id": "listed-break",
   "metadata": {},
   "source": [
    "#swapchange\n"
   ]
  },
  {
   "cell_type": "code",
   "execution_count": 40,
   "id": "headed-italian",
   "metadata": {},
   "outputs": [
    {
     "data": {
      "text/plain": [
       "'gandhi prakash'"
      ]
     },
     "execution_count": 40,
     "metadata": {},
     "output_type": "execute_result"
    }
   ],
   "source": [
    "name"
   ]
  },
  {
   "cell_type": "code",
   "execution_count": 42,
   "id": "optimum-onion",
   "metadata": {},
   "outputs": [
    {
     "data": {
      "text/plain": [
       "'GANDHI PRAKASH'"
      ]
     },
     "execution_count": 42,
     "metadata": {},
     "output_type": "execute_result"
    }
   ],
   "source": [
    "name.swapcase() to print capitals letters"
   ]
  },
  {
   "cell_type": "code",
   "execution_count": 46,
   "id": "vertical-merit",
   "metadata": {},
   "outputs": [
    {
     "data": {
      "text/plain": [
       "'gandhi prakash'"
      ]
     },
     "execution_count": 46,
     "metadata": {},
     "output_type": "execute_result"
    }
   ],
   "source": [
    "name.translate('gandhi prakash')"
   ]
  },
  {
   "cell_type": "code",
   "execution_count": 3,
   "id": "adaptive-tuning",
   "metadata": {},
   "outputs": [
    {
     "data": {
      "text/plain": [
       "'hello apssdc'"
      ]
     },
     "execution_count": 3,
     "metadata": {},
     "output_type": "execute_result"
    }
   ],
   "source": [
    "d={92:80}\n",
    "s=\"hello apssdc\"\n",
    "s.translate(d)"
   ]
  },
  {
   "cell_type": "markdown",
   "id": "cultural-tissue",
   "metadata": {},
   "source": [
    "# startswith"
   ]
  },
  {
   "cell_type": "code",
   "execution_count": 5,
   "id": "violent-wheat",
   "metadata": {},
   "outputs": [
    {
     "data": {
      "text/plain": [
       "True"
      ]
     },
     "execution_count": 5,
     "metadata": {},
     "output_type": "execute_result"
    }
   ],
   "source": [
    "s=\"rohit\"\n",
    "s.startswith('r')"
   ]
  },
  {
   "cell_type": "markdown",
   "id": "ahead-address",
   "metadata": {},
   "source": [
    "#CALCULATED THE LENGTH OF THE STRING"
   ]
  },
  {
   "cell_type": "code",
   "execution_count": 2,
   "id": "established-birth",
   "metadata": {},
   "outputs": [
    {
     "name": "stdout",
     "output_type": "stream",
     "text": [
      "1\n",
      "2\n",
      "3\n",
      "4\n",
      "5\n",
      "6\n",
      "7\n",
      "8\n",
      "9\n",
      "10\n",
      "11\n",
      "12\n",
      "13\n",
      "14\n",
      "15\n",
      "16\n",
      "17\n",
      "18\n",
      "19\n",
      "20\n",
      "21\n",
      "22\n",
      "23\n",
      "24\n",
      "25\n",
      "26\n",
      "27\n",
      "28\n",
      "29\n",
      "30\n"
     ]
    }
   ],
   "source": [
    "a=\"python programming for ece....\"\n",
    "count=0\n",
    "for i in a:\n",
    "    count+=1\n",
    "    print(count)"
   ]
  },
  {
   "cell_type": "markdown",
   "id": "mysterious-rates",
   "metadata": {},
   "source": [
    "# print only ece using slicing"
   ]
  },
  {
   "cell_type": "code",
   "execution_count": 3,
   "id": "attended-brazil",
   "metadata": {},
   "outputs": [
    {
     "name": "stdout",
     "output_type": "stream",
     "text": [
      "python programming for ece....\n"
     ]
    },
    {
     "data": {
      "text/plain": [
       "'g f'"
      ]
     },
     "execution_count": 3,
     "metadata": {},
     "output_type": "execute_result"
    }
   ],
   "source": [
    "print(a)\n",
    "a[-13:-10]"
   ]
  },
  {
   "cell_type": "markdown",
   "id": "brief-jerusalem",
   "metadata": {},
   "source": [
    "### task1\n",
    "-abc mno\n",
    "-def pqr\n",
    "###task-2\n",
    "s='APSSDCAPSSDC'-----> INPUT\n",
    "res='APSDCAP$DC'---->OUTPUT\n",
    "###TASK-3\n",
    "G='ABCefg123@&%ABCabc'\n",
    "=upper,lower,special symbols len"
   ]
  },
  {
   "cell_type": "markdown",
   "id": "blocked-infrastructure",
   "metadata": {},
   "source": [
    "# list\n",
    "- stores differt data types like strings,integers,floating......\n",
    "*denotes [] or string"
   ]
  },
  {
   "cell_type": "code",
   "execution_count": 22,
   "id": "geographic-hierarchy",
   "metadata": {},
   "outputs": [
    {
     "data": {
      "text/plain": [
       "['11215']"
      ]
     },
     "execution_count": 22,
     "metadata": {},
     "output_type": "execute_result"
    }
   ],
   "source": [
    "a=['11215']\n",
    "a[-3::1]"
   ]
  },
  {
   "cell_type": "code",
   "execution_count": 23,
   "id": "subject-doubt",
   "metadata": {},
   "outputs": [
    {
     "data": {
      "text/plain": [
       "['tintu', 'vijay', 'varun']"
      ]
     },
     "execution_count": 23,
     "metadata": {},
     "output_type": "execute_result"
    }
   ],
   "source": [
    "b2=['tintu','vijay','varun']\n",
    "b2"
   ]
  },
  {
   "cell_type": "code",
   "execution_count": 24,
   "id": "careful-truck",
   "metadata": {},
   "outputs": [],
   "source": [
    "b2.reverse()"
   ]
  },
  {
   "cell_type": "code",
   "execution_count": 25,
   "id": "fluid-johnson",
   "metadata": {},
   "outputs": [
    {
     "data": {
      "text/plain": [
       "['varun', 'vijay', 'tintu']"
      ]
     },
     "execution_count": 25,
     "metadata": {},
     "output_type": "execute_result"
    }
   ],
   "source": [
    "b2"
   ]
  },
  {
   "cell_type": "code",
   "execution_count": 31,
   "id": "distant-lemon",
   "metadata": {},
   "outputs": [],
   "source": [
    "a=[1,2,3,4,5,6,7]\n",
    "b=[10,20,30,40,50,60,70]\n",
    "c=a+b"
   ]
  },
  {
   "cell_type": "code",
   "execution_count": 34,
   "id": "israeli-distinction",
   "metadata": {},
   "outputs": [],
   "source": [
    "c.append(1)"
   ]
  },
  {
   "cell_type": "code",
   "execution_count": 35,
   "id": "neither-ontario",
   "metadata": {},
   "outputs": [
    {
     "name": "stdout",
     "output_type": "stream",
     "text": [
      "[1, 2, 3, 4, 5, 6, 7, 10, 20, 30, 40, 50, 60, 70, 1]\n"
     ]
    }
   ],
   "source": [
    "print(c)"
   ]
  },
  {
   "cell_type": "code",
   "execution_count": null,
   "id": "helpful-tours",
   "metadata": {},
   "outputs": [],
   "source": []
  }
 ],
 "metadata": {
  "kernelspec": {
   "display_name": "Python 3",
   "language": "python",
   "name": "python3"
  },
  "language_info": {
   "codemirror_mode": {
    "name": "ipython",
    "version": 3
   },
   "file_extension": ".py",
   "mimetype": "text/x-python",
   "name": "python",
   "nbconvert_exporter": "python",
   "pygments_lexer": "ipython3",
   "version": "3.8.0"
  }
 },
 "nbformat": 4,
 "nbformat_minor": 5
}
