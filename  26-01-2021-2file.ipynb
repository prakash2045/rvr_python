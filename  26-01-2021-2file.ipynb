{
 "cells": [
  {
   "cell_type": "code",
   "execution_count": 8,
   "id": "chicken-novel",
   "metadata": {},
   "outputs": [
    {
     "name": "stdout",
     "output_type": "stream",
     "text": [
      "enter n1 value10\n",
      "enter n2 value20\n",
      "addition is: 30\n",
      "subtraction is: -10\n",
      "mulitiplication is: 200\n",
      "division is: 0.5\n"
     ]
    }
   ],
   "source": [
    "# with arg and without return value\n",
    "n1=int(input('enter n1 value'))\n",
    "n2=int(input('enter n2 value'))\n",
    "def f2(n1,n2):\n",
    "    print('addition is:',n1+n2)\n",
    "    print('subtraction is:',n1-n2)\n",
    "    print('mulitiplication is:',n1*n2)\n",
    "    print('division is:',n1/n2)\n",
    "f2(n1,n2)"
   ]
  },
  {
   "cell_type": "code",
   "execution_count": null,
   "id": "atomic-humidity",
   "metadata": {},
   "outputs": [],
   "source": []
  }
 ],
 "metadata": {
  "kernelspec": {
   "display_name": "Python 3",
   "language": "python",
   "name": "python3"
  },
  "language_info": {
   "codemirror_mode": {
    "name": "ipython",
    "version": 3
   },
   "file_extension": ".py",
   "mimetype": "text/x-python",
   "name": "python",
   "nbconvert_exporter": "python",
   "pygments_lexer": "ipython3",
   "version": "3.8.0"
  }
 },
 "nbformat": 4,
 "nbformat_minor": 5
}
