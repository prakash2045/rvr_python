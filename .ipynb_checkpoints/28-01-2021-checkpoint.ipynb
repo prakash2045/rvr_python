{
 "cells": [
  {
   "cell_type": "markdown",
   "id": "russian-companion",
   "metadata": {},
   "source": [
    "## strings continous\n",
    "### data structures in python\n",
    ".list\n",
    ".tuple\n",
    ".dict"
   ]
  },
  {
   "cell_type": "code",
   "execution_count": 10,
   "id": "historical-selection",
   "metadata": {
    "scrolled": true
   },
   "outputs": [
    {
     "name": "stdout",
     "output_type": "stream",
     "text": [
      "Python programming\n"
     ]
    }
   ],
   "source": [
    "g='Python programming'\n",
    "print(g)"
   ]
  },
  {
   "cell_type": "code",
   "execution_count": 12,
   "id": "physical-bread",
   "metadata": {},
   "outputs": [
    {
     "data": {
      "text/plain": [
       "'my name is:gandhi prakash '"
      ]
     },
     "execution_count": 12,
     "metadata": {},
     "output_type": "execute_result"
    }
   ],
   "source": [
    "a='my name is:{} '\n",
    "name='gandhi prakash'\n",
    "a.format(name)"
   ]
  },
  {
   "cell_type": "code",
   "execution_count": 24,
   "id": "hybrid-holiday",
   "metadata": {},
   "outputs": [
    {
     "data": {
      "text/plain": [
       "'my name is:gandhi prakash,email id is:bellamgandhiprakash@gmail.com, roll number:20'"
      ]
     },
     "execution_count": 24,
     "metadata": {},
     "output_type": "execute_result"
    }
   ],
   "source": [
    "a= \"my name is:{},email id is:{}, roll number:{}\"\n",
    "name=\"gandhi prakash\"\n",
    "mail=\"bellamgandhiprakash@gmail.com\"\n",
    "roll =20\n",
    "a.format(name,mail,roll)"
   ]
  },
  {
   "cell_type": "code",
   "execution_count": 20,
   "id": "formed-diagram",
   "metadata": {},
   "outputs": [
    {
     "data": {
      "text/plain": [
       "44"
      ]
     },
     "execution_count": 20,
     "metadata": {},
     "output_type": "execute_result"
    }
   ],
   "source": [
    "len(a)"
   ]
  },
  {
   "cell_type": "code",
   "execution_count": 25,
   "id": "studied-galaxy",
   "metadata": {},
   "outputs": [
    {
     "data": {
      "text/plain": [
       "45"
      ]
     },
     "execution_count": 25,
     "metadata": {},
     "output_type": "execute_result"
    }
   ],
   "source": [
    "a.count('')"
   ]
  },
  {
   "cell_type": "code",
   "execution_count": 27,
   "id": "regional-employment",
   "metadata": {},
   "outputs": [
    {
     "data": {
      "text/plain": [
       "False"
      ]
     },
     "execution_count": 27,
     "metadata": {},
     "output_type": "execute_result"
    }
   ],
   "source": [
    "g.isalpha()"
   ]
  },
  {
   "cell_type": "code",
   "execution_count": 28,
   "id": "chicken-therapist",
   "metadata": {},
   "outputs": [
    {
     "data": {
      "text/plain": [
       "False"
      ]
     },
     "execution_count": 28,
     "metadata": {},
     "output_type": "execute_result"
    }
   ],
   "source": [
    "a=\"ece202\"\n",
    "a.isalpha()"
   ]
  },
  {
   "cell_type": "code",
   "execution_count": 32,
   "id": "continuous-quest",
   "metadata": {},
   "outputs": [
    {
     "data": {
      "text/plain": [
       "True"
      ]
     },
     "execution_count": 32,
     "metadata": {},
     "output_type": "execute_result"
    }
   ],
   "source": [
    "g1=\"020120\"\n",
    "g1.isdigit()"
   ]
  },
  {
   "cell_type": "code",
   "execution_count": 34,
   "id": "standing-lightning",
   "metadata": {},
   "outputs": [
    {
     "data": {
      "text/plain": [
       "2"
      ]
     },
     "execution_count": 34,
     "metadata": {},
     "output_type": "execute_result"
    }
   ],
   "source": [
    "name.find('n')"
   ]
  },
  {
   "cell_type": "code",
   "execution_count": 35,
   "id": "humanitarian-investor",
   "metadata": {},
   "outputs": [
    {
     "data": {
      "text/plain": [
       "'gandhi prakash'"
      ]
     },
     "execution_count": 35,
     "metadata": {},
     "output_type": "execute_result"
    }
   ],
   "source": [
    "name"
   ]
  },
  {
   "cell_type": "code",
   "execution_count": 36,
   "id": "personalized-walter",
   "metadata": {},
   "outputs": [
    {
     "data": {
      "text/plain": [
       "7"
      ]
     },
     "execution_count": 36,
     "metadata": {},
     "output_type": "execute_result"
    }
   ],
   "source": [
    "name.find('pr')"
   ]
  },
  {
   "cell_type": "code",
   "execution_count": 37,
   "id": "exempt-driving",
   "metadata": {},
   "outputs": [
    {
     "data": {
      "text/plain": [
       "'gandhi prakash'"
      ]
     },
     "execution_count": 37,
     "metadata": {},
     "output_type": "execute_result"
    }
   ],
   "source": [
    "#replace\n",
    "name"
   ]
  },
  {
   "cell_type": "code",
   "execution_count": 38,
   "id": "noted-adult",
   "metadata": {},
   "outputs": [
    {
     "data": {
      "text/plain": [
       "'vijay'"
      ]
     },
     "execution_count": 38,
     "metadata": {},
     "output_type": "execute_result"
    }
   ],
   "source": [
    "name.replace('gandhi prakash','vijay')"
   ]
  },
  {
   "cell_type": "code",
   "execution_count": 39,
   "id": "compressed-firewall",
   "metadata": {},
   "outputs": [
    {
     "data": {
      "text/plain": [
       "'gandhi prakash'"
      ]
     },
     "execution_count": 39,
     "metadata": {},
     "output_type": "execute_result"
    }
   ],
   "source": [
    "name"
   ]
  },
  {
   "cell_type": "markdown",
   "id": "inappropriate-romance",
   "metadata": {},
   "source": [
    "#swapchange\n"
   ]
  },
  {
   "cell_type": "code",
   "execution_count": 40,
   "id": "colonial-active",
   "metadata": {},
   "outputs": [
    {
     "data": {
      "text/plain": [
       "'gandhi prakash'"
      ]
     },
     "execution_count": 40,
     "metadata": {},
     "output_type": "execute_result"
    }
   ],
   "source": [
    "name"
   ]
  },
  {
   "cell_type": "code",
   "execution_count": 42,
   "id": "faced-compatibility",
   "metadata": {},
   "outputs": [
    {
     "data": {
      "text/plain": [
       "'GANDHI PRAKASH'"
      ]
     },
     "execution_count": 42,
     "metadata": {},
     "output_type": "execute_result"
    }
   ],
   "source": [
    "name.swapcase() to print capitals letters"
   ]
  },
  {
   "cell_type": "code",
   "execution_count": 46,
   "id": "subsequent-turkish",
   "metadata": {},
   "outputs": [
    {
     "data": {
      "text/plain": [
       "'gandhi prakash'"
      ]
     },
     "execution_count": 46,
     "metadata": {},
     "output_type": "execute_result"
    }
   ],
   "source": [
    "name.translate('gandhi prakash')"
   ]
  },
  {
   "cell_type": "code",
   "execution_count": 3,
   "id": "closed-uganda",
   "metadata": {},
   "outputs": [
    {
     "data": {
      "text/plain": [
       "'hello apssdc'"
      ]
     },
     "execution_count": 3,
     "metadata": {},
     "output_type": "execute_result"
    }
   ],
   "source": [
    "d={92:80}\n",
    "s=\"hello apssdc\"\n",
    "s.translate(d)"
   ]
  },
  {
   "cell_type": "markdown",
   "id": "municipal-wildlife",
   "metadata": {},
   "source": [
    "# startswith"
   ]
  },
  {
   "cell_type": "code",
   "execution_count": 4,
   "id": "through-there",
   "metadata": {
    "scrolled": false
   },
   "outputs": [
    {
     "ename": "NameError",
     "evalue": "name 'name' is not defined",
     "output_type": "error",
     "traceback": [
      "\u001b[1;31m---------------------------------------------------------------------------\u001b[0m",
      "\u001b[1;31mNameError\u001b[0m                                 Traceback (most recent call last)",
      "\u001b[1;32m<ipython-input-4-47538941c846>\u001b[0m in \u001b[0;36m<module>\u001b[1;34m\u001b[0m\n\u001b[1;32m----> 1\u001b[1;33m \u001b[0mname\u001b[0m\u001b[1;33m.\u001b[0m\u001b[0mstartswith\u001b[0m\u001b[1;33m(\u001b[0m\u001b[1;33m)\u001b[0m\u001b[1;33m\u001b[0m\u001b[1;33m\u001b[0m\u001b[0m\n\u001b[0m",
      "\u001b[1;31mNameError\u001b[0m: name 'name' is not defined"
     ]
    }
   ],
   "source": []
  },
  {
   "cell_type": "code",
   "execution_count": null,
   "id": "polished-colonial",
   "metadata": {},
   "outputs": [],
   "source": []
  }
 ],
 "metadata": {
  "kernelspec": {
   "display_name": "Python 3",
   "language": "python",
   "name": "python3"
  },
  "language_info": {
   "codemirror_mode": {
    "name": "ipython",
    "version": 3
   },
   "file_extension": ".py",
   "mimetype": "text/x-python",
   "name": "python",
   "nbconvert_exporter": "python",
   "pygments_lexer": "ipython3",
   "version": "3.8.0"
  }
 },
 "nbformat": 4,
 "nbformat_minor": 5
}
